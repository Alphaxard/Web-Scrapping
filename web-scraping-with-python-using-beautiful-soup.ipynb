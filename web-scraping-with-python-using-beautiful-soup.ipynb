{
 "cells": [
  {
   "cell_type": "code",
   "execution_count": 1,
   "metadata": {
    "_cell_guid": "79c7e3d0-c299-4dcb-8224-4455121ee9b0",
    "_uuid": "d629ff2d2480ee46fbb7e2d37f6b5fab8052498a",
    "tags": []
   },
   "outputs": [],
   "source": [
    "#Packages\n",
    "#--Web scraping packages\n",
    "from bs4 import BeautifulSoup\n",
    "import requests\n",
    "#Pandas/numpy for data manipulation\n",
    "import pandas as pd\n",
    "import numpy as np"
   ]
  },
  {
   "cell_type": "code",
   "execution_count": 2,
   "metadata": {
    "_uuid": "987394104f10e08c6975b586ce4d0d7f3193d1e3"
   },
   "outputs": [],
   "source": [
    "#load URLs we want to scrape into an array\n",
    "BASE_URL = [\n",
    "'http://www.reuters.com/finance/stocks/company-officers/GOOG.O',\n",
    "'http://www.reuters.com/finance/stocks/company-officers/AMZN',\n",
    "'http://www.reuters.com/finance/stocks/company-officers/AAPL'\n",
    "]"
   ]
  },
  {
   "cell_type": "code",
   "execution_count": 3,
   "metadata": {
    "_uuid": "697e9d016e5d97356cde68c9252278c34810bc25"
   },
   "outputs": [],
   "source": [
    "#loading empty array for board members\n",
    "board_members = []\n",
    "#Loop through our URLs we loaded above\n",
    "for b in BASE_URL:\n",
    "    html = requests.get(b).text\n",
    "    soup = BeautifulSoup(html, \"html.parser\")\n",
    "    #identify table we want to scrape\n",
    "    officer_table = soup.find('table', {\"class\" : \"dataTable\"})\n",
    "    #try clause to skip any companies with missing/empty board member tables\n",
    "    try:\n",
    "        #loop through table, grab each of the 4 columns shown (try one of the links yourself to see the layout)\n",
    "        for row in officer_table.find_all('tr'):\n",
    "            cols = row.find_all('td')\n",
    "            if len(cols) == 4:\n",
    "               board_members.append((b, cols[0].text.strip(), cols[1].text.strip(), cols[2].text.strip(), cols[3].text.strip()))\n",
    "    except: pass  \n"
   ]
  },
  {
   "cell_type": "code",
   "execution_count": 4,
   "metadata": {
    "_uuid": "d8c03839e6bdd872ce80fbb6c42f7004c355aa6c"
   },
   "outputs": [
    {
     "data": {
      "text/plain": [
       "46"
      ]
     },
     "execution_count": 4,
     "metadata": {},
     "output_type": "execute_result"
    }
   ],
   "source": [
    "#convert output to new array, check length\n",
    "board_array = np.asarray(board_members)\n",
    "len(board_array)"
   ]
  },
  {
   "cell_type": "code",
   "execution_count": 5,
   "metadata": {
    "_uuid": "286b015ef204637edde00c6a4afaed169ad45bc2"
   },
   "outputs": [],
   "source": [
    "#convert new array to dataframe\n",
    "df = pd.DataFrame(board_array)"
   ]
  },
  {
   "cell_type": "code",
   "execution_count": 6,
   "metadata": {
    "_uuid": "53c48e85e05434254dd91d0549d4626036df5a19"
   },
   "outputs": [
    {
     "data": {
      "text/html": [
       "<div>\n",
       "<style scoped>\n",
       "    .dataframe tbody tr th:only-of-type {\n",
       "        vertical-align: middle;\n",
       "    }\n",
       "\n",
       "    .dataframe tbody tr th {\n",
       "        vertical-align: top;\n",
       "    }\n",
       "\n",
       "    .dataframe thead th {\n",
       "        text-align: right;\n",
       "    }\n",
       "</style>\n",
       "<table border=\"1\" class=\"dataframe\">\n",
       "  <thead>\n",
       "    <tr style=\"text-align: right;\">\n",
       "      <th></th>\n",
       "      <th>0</th>\n",
       "      <th>1</th>\n",
       "      <th>2</th>\n",
       "      <th>3</th>\n",
       "      <th>4</th>\n",
       "    </tr>\n",
       "  </thead>\n",
       "  <tbody>\n",
       "    <tr>\n",
       "      <th>0</th>\n",
       "      <td>http://www.reuters.com/finance/stocks/company-...</td>\n",
       "      <td>John Hennessy</td>\n",
       "      <td>65</td>\n",
       "      <td>2018</td>\n",
       "      <td>Independent Chairman of the Board</td>\n",
       "    </tr>\n",
       "    <tr>\n",
       "      <th>1</th>\n",
       "      <td>http://www.reuters.com/finance/stocks/company-...</td>\n",
       "      <td>Sergey Brin</td>\n",
       "      <td>44</td>\n",
       "      <td>2015</td>\n",
       "      <td>President, Co-Founder, Director</td>\n",
       "    </tr>\n",
       "    <tr>\n",
       "      <th>2</th>\n",
       "      <td>http://www.reuters.com/finance/stocks/company-...</td>\n",
       "      <td>Lawrence Page</td>\n",
       "      <td>45</td>\n",
       "      <td>2015</td>\n",
       "      <td>Chief Executive Officer, Co-Founder, Director</td>\n",
       "    </tr>\n",
       "    <tr>\n",
       "      <th>3</th>\n",
       "      <td>http://www.reuters.com/finance/stocks/company-...</td>\n",
       "      <td>Ruth Porat</td>\n",
       "      <td>60</td>\n",
       "      <td>2015</td>\n",
       "      <td>Chief Financial Officer, Senior Vice President</td>\n",
       "    </tr>\n",
       "    <tr>\n",
       "      <th>4</th>\n",
       "      <td>http://www.reuters.com/finance/stocks/company-...</td>\n",
       "      <td>Sundar Pichai</td>\n",
       "      <td>46</td>\n",
       "      <td>2017</td>\n",
       "      <td>Chief Executive Officer of Google; Director</td>\n",
       "    </tr>\n",
       "  </tbody>\n",
       "</table>\n",
       "</div>"
      ],
      "text/plain": [
       "                                                   0                       ...                                                                     4\n",
       "0  http://www.reuters.com/finance/stocks/company-...                       ...                                     Independent Chairman of the Board\n",
       "1  http://www.reuters.com/finance/stocks/company-...                       ...                                       President, Co-Founder, Director\n",
       "2  http://www.reuters.com/finance/stocks/company-...                       ...                         Chief Executive Officer, Co-Founder, Director\n",
       "3  http://www.reuters.com/finance/stocks/company-...                       ...                        Chief Financial Officer, Senior Vice President\n",
       "4  http://www.reuters.com/finance/stocks/company-...                       ...                           Chief Executive Officer of Google; Director\n",
       "\n",
       "[5 rows x 5 columns]"
      ]
     },
     "execution_count": 6,
     "metadata": {},
     "output_type": "execute_result"
    }
   ],
   "source": [
    "df.head()"
   ]
  },
  {
   "cell_type": "code",
   "execution_count": 7,
   "metadata": {
    "_uuid": "ca58d95cc26c63f2d811c24daa83c8028f8ee035"
   },
   "outputs": [
    {
     "data": {
      "text/html": [
       "<div>\n",
       "<style scoped>\n",
       "    .dataframe tbody tr th:only-of-type {\n",
       "        vertical-align: middle;\n",
       "    }\n",
       "\n",
       "    .dataframe tbody tr th {\n",
       "        vertical-align: top;\n",
       "    }\n",
       "\n",
       "    .dataframe thead th {\n",
       "        text-align: right;\n",
       "    }\n",
       "</style>\n",
       "<table border=\"1\" class=\"dataframe\">\n",
       "  <thead>\n",
       "    <tr style=\"text-align: right;\">\n",
       "      <th></th>\n",
       "      <th>URL</th>\n",
       "      <th>Name</th>\n",
       "      <th>Age</th>\n",
       "      <th>Year_Joined</th>\n",
       "      <th>Title</th>\n",
       "    </tr>\n",
       "  </thead>\n",
       "  <tbody>\n",
       "    <tr>\n",
       "      <th>0</th>\n",
       "      <td>http://www.reuters.com/finance/stocks/company-...</td>\n",
       "      <td>John Hennessy</td>\n",
       "      <td>65</td>\n",
       "      <td>2018</td>\n",
       "      <td>Independent Chairman of the Board</td>\n",
       "    </tr>\n",
       "    <tr>\n",
       "      <th>1</th>\n",
       "      <td>http://www.reuters.com/finance/stocks/company-...</td>\n",
       "      <td>Sergey Brin</td>\n",
       "      <td>44</td>\n",
       "      <td>2015</td>\n",
       "      <td>President, Co-Founder, Director</td>\n",
       "    </tr>\n",
       "    <tr>\n",
       "      <th>2</th>\n",
       "      <td>http://www.reuters.com/finance/stocks/company-...</td>\n",
       "      <td>Lawrence Page</td>\n",
       "      <td>45</td>\n",
       "      <td>2015</td>\n",
       "      <td>Chief Executive Officer, Co-Founder, Director</td>\n",
       "    </tr>\n",
       "    <tr>\n",
       "      <th>3</th>\n",
       "      <td>http://www.reuters.com/finance/stocks/company-...</td>\n",
       "      <td>Ruth Porat</td>\n",
       "      <td>60</td>\n",
       "      <td>2015</td>\n",
       "      <td>Chief Financial Officer, Senior Vice President</td>\n",
       "    </tr>\n",
       "    <tr>\n",
       "      <th>4</th>\n",
       "      <td>http://www.reuters.com/finance/stocks/company-...</td>\n",
       "      <td>Sundar Pichai</td>\n",
       "      <td>46</td>\n",
       "      <td>2017</td>\n",
       "      <td>Chief Executive Officer of Google; Director</td>\n",
       "    </tr>\n",
       "    <tr>\n",
       "      <th>5</th>\n",
       "      <td>http://www.reuters.com/finance/stocks/company-...</td>\n",
       "      <td>David Drummond</td>\n",
       "      <td>55</td>\n",
       "      <td>2015</td>\n",
       "      <td>Senior Vice President - Corporate Development,...</td>\n",
       "    </tr>\n",
       "    <tr>\n",
       "      <th>6</th>\n",
       "      <td>http://www.reuters.com/finance/stocks/company-...</td>\n",
       "      <td>Diane Greene</td>\n",
       "      <td>62</td>\n",
       "      <td>2015</td>\n",
       "      <td>Senior Vice President, Chief Executive Officer...</td>\n",
       "    </tr>\n",
       "    <tr>\n",
       "      <th>7</th>\n",
       "      <td>http://www.reuters.com/finance/stocks/company-...</td>\n",
       "      <td>Eric Schmidt</td>\n",
       "      <td>62</td>\n",
       "      <td>2018</td>\n",
       "      <td>Director</td>\n",
       "    </tr>\n",
       "    <tr>\n",
       "      <th>8</th>\n",
       "      <td>http://www.reuters.com/finance/stocks/company-...</td>\n",
       "      <td>L. John Doerr</td>\n",
       "      <td>66</td>\n",
       "      <td>2016</td>\n",
       "      <td>Independent Director</td>\n",
       "    </tr>\n",
       "    <tr>\n",
       "      <th>9</th>\n",
       "      <td>http://www.reuters.com/finance/stocks/company-...</td>\n",
       "      <td>Roger Ferguson</td>\n",
       "      <td>66</td>\n",
       "      <td>2016</td>\n",
       "      <td>Independent Director</td>\n",
       "    </tr>\n",
       "  </tbody>\n",
       "</table>\n",
       "</div>"
      ],
      "text/plain": [
       "                                                 URL                        ...                                                                      Title\n",
       "0  http://www.reuters.com/finance/stocks/company-...                        ...                                          Independent Chairman of the Board\n",
       "1  http://www.reuters.com/finance/stocks/company-...                        ...                                            President, Co-Founder, Director\n",
       "2  http://www.reuters.com/finance/stocks/company-...                        ...                              Chief Executive Officer, Co-Founder, Director\n",
       "3  http://www.reuters.com/finance/stocks/company-...                        ...                             Chief Financial Officer, Senior Vice President\n",
       "4  http://www.reuters.com/finance/stocks/company-...                        ...                                Chief Executive Officer of Google; Director\n",
       "5  http://www.reuters.com/finance/stocks/company-...                        ...                          Senior Vice President - Corporate Development,...\n",
       "6  http://www.reuters.com/finance/stocks/company-...                        ...                          Senior Vice President, Chief Executive Officer...\n",
       "7  http://www.reuters.com/finance/stocks/company-...                        ...                                                                   Director\n",
       "8  http://www.reuters.com/finance/stocks/company-...                        ...                                                       Independent Director\n",
       "9  http://www.reuters.com/finance/stocks/company-...                        ...                                                       Independent Director\n",
       "\n",
       "[10 rows x 5 columns]"
      ]
     },
     "execution_count": 7,
     "metadata": {},
     "output_type": "execute_result"
    }
   ],
   "source": [
    "#rename columns, check output\n",
    "df.columns = ['URL', 'Name', 'Age','Year_Joined', 'Title']\n",
    "df.head(10)"
   ]
  }
 ],
 "metadata": {
  "kernelspec": {
   "display_name": "Python 3 (ipykernel)",
   "language": "python",
   "name": "python3"
  },
  "language_info": {
   "codemirror_mode": {
    "name": "ipython",
    "version": 3
   },
   "file_extension": ".py",
   "mimetype": "text/x-python",
   "name": "python",
   "nbconvert_exporter": "python",
   "pygments_lexer": "ipython3",
   "version": "3.11.5"
  }
 },
 "nbformat": 4,
 "nbformat_minor": 4
}
